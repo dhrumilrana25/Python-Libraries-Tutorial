{
  "nbformat": 4,
  "nbformat_minor": 0,
  "metadata": {
    "colab": {
      "provenance": []
    },
    "kernelspec": {
      "name": "python3",
      "display_name": "Python 3"
    },
    "language_info": {
      "name": "python"
    }
  },
  "cells": [
    {
      "cell_type": "code",
      "execution_count": null,
      "metadata": {
        "id": "ZevF_0DTzbBj"
      },
      "outputs": [],
      "source": [
        "'''\n",
        "-> Python Strings - It is immutable, which means it can't be changed later on,and the main thing single quotes('')\n",
        "or double quote(\"\") both of them are same but will be used with some rules.\n",
        "\n",
        "-> Always use them in pair. Else go through the examples given below....\n",
        "\n",
        "-> Length of the string is the number of characters in string\n",
        "(even spaces,symbols or anything inside quote are considered as a character in python)\n",
        "\n",
        "'''\n",
        "\n",
        "a = \"abc\"\n",
        "print(a)\n",
        "\n",
        "b = \"abc'abc'\"\n",
        "print(b)\n",
        "\n",
        "c = \"This backslash is an escape character for \\\"double quote\\\"\" #Begin with a \\ and then add (\") and then before ending the (\") add \\ again\n",
        "print(c)\n",
        "\n",
        "d = \"abc\"\n",
        "#d[1] = \"d\" #String is immutable so you can't change the value of the stringc\n",
        "print(d)\n",
        "\n",
        "print(a+b+c) #String does support the (+) operator and it concats the values of the variables\n",
        "print(a*5) #String does support the (*) operators and it prints n times of the value\n",
        "\n",
        "#To find the length of the string (which means, number of letters in your variable)\n",
        "print(len(c))\n",
        "\n",
        "#Spaces in String\n",
        "e = \"  a  \"\n",
        "print(len(e))\n",
        "\n",
        "#Important Note [Both are not same, let's check why!]\n",
        "\n",
        "print(len(\"abc\")*5) #In this expression, python first will check the length of the string which is 3 here and then (*) multiply by 5 (interger)\n",
        "print(len(\"abc\"*5)) #In this expression, python first will (\"abcabcabcabcabc\") and then it will check the length of the character"
      ]
    },
    {
      "cell_type": "code",
      "source": [
        "'''\n",
        "String Slicing\n",
        "\n",
        "-> Length of string is the number of characters in string (even spaces, symbols or anything inside quotes are considered as a character in python)\n",
        "\n",
        "-> Index of the String STARTS with ZERO(0), which means in name \"Dhrumil\", the index of letter \"D\" is ZERO(0), followed by letter \"h\" is ONE(1)..\n",
        "\n",
        "-> IMPORTANT - If length is (n), then highest index is (n-1)\n",
        "\n",
        "'''\n",
        "\n",
        "a = \"abcdefg\"\n",
        "print(len(a)) #Prints length of variable (a) which is (7)\n",
        "print(a[0]) #Prints the character at Index(0), which is 'a'\n",
        "print(a[1]) #Prints the character at Index(1), which is 'b'\n",
        "print(a[2]) #Prints the character at Index(2), which is 'c'\n",
        "print(a[3]) #Prints the character at Index(3), which is 'd'\n",
        "print(a[4]) #Prints the character at Index(4), which is 'e'\n",
        "print(a[5]) #Prints the character at Index(5), which is 'f'\n",
        "print(a[6]) #Prints the character at Index(6), which is 'g'\n",
        "#print(a[7]) returns index error, because it exceeds the max index\n",
        "\n",
        "# if we mention [i:j] in an expression it prints charcters from (i) to (j-1)\n",
        "\n",
        "# Slicing examples: [start:end]\n",
        "# Slicing prints characters from index `start` to `end-1`.\n",
        "\n",
        "print(a[0:])    # Output: 'abcdefg' (from index 0 to the end of the string)\n",
        "print(a[0:6])   # Output: 'abcdef' (from index 0 to index 5)\n",
        "print(a[0:7])   # Output: 'abcdefg' (full string as end index is 7, the length of the string)\n",
        "print(a[0:8])   # Output: 'abcdefg' (end index exceeds length, so it takes the full string)\n",
        "\n",
        "# Reversing a string using slicing\n",
        "print(a[::-1])  # Output: 'gfedcba' (reverses the string using step -1)\n",
        "\n",
        "# -------------------------\n",
        "# Additional Slicing Scenarios\n",
        "# -------------------------\n",
        "\n",
        "# Negative indexing: Accessing characters from the end of the string\n",
        "print(a[-1])  # Output: 'g' (last character)\n",
        "print(a[-2])  # Output: 'f' (second last character)\n",
        "\n",
        "# Slicing with negative indexing\n",
        "print(a[-3:])    # Output: 'efg' (last 3 characters)\n",
        "print(a[:-3])    # Output: 'abcd' (excluding the last 3 characters)\n",
        "\n",
        "# Slicing with step values\n",
        "print(a[0:7:2])  # Output: 'aceg' (every second character from index 0 to 6)\n",
        "print(a[::3])    # Output: 'adg' (every third character in the full string)\n",
        "print(a[::-2])   # Output: 'geca' (reversed string with every second character)\n",
        "\n",
        "# Omitting start and end indexes\n",
        "print(a[:4])     # Output: 'abcd' (characters from the start up to index 3)\n",
        "print(a[3:])     # Output: 'defg' (characters from index 3 to the end)\n",
        "print(a[:])      # Output: 'abcdefg' (full string)\n",
        "\n",
        "# Edge cases\n",
        "print(a[3:3])    # Output: '' (empty string, start and end are the same)\n",
        "print(a[6:0:-1]) # Output: 'gfedcb' (reverse slicing from index 6 to 1)\n",
        "\n",
        "# Invalid slicing\n",
        "# If `start` index is greater than `end`, it returns an empty string.\n",
        "print(a[4:2])    # Output: '' (empty string as start > end)"
      ],
      "metadata": {
        "id": "pABE3ijp_Nro"
      },
      "execution_count": null,
      "outputs": []
    },
    {
      "cell_type": "code",
      "source": [
        "#Sets are a collection of elements or items, let us see some basics of set\n",
        "\n",
        "#Important properties of the sets that sets are [unordered, unchangeable*, and unindexed]\n",
        "\n",
        "myset = {'a','b','c','d', 'a'}  #Duplicate characters are removed by python automatically\n",
        "print(myset)"
      ],
      "metadata": {
        "id": "Rn-muLRQpf4T",
        "colab": {
          "base_uri": "https://localhost:8080/"
        },
        "outputId": "4ab9c408-395e-4b3a-b372-c26e19b6da50"
      },
      "execution_count": null,
      "outputs": [
        {
          "output_type": "stream",
          "name": "stdout",
          "text": [
            "{'b', 'a', 'c', 'd'}\n"
          ]
        }
      ]
    },
    {
      "cell_type": "code",
      "source": [
        "#The print() function outputs a value to the console but does not return anything, so its return value is None.\n",
        "returnvalue = print(\"dhrumil\"*5)\n",
        "print(returnvalue)"
      ],
      "metadata": {
        "id": "X0a65mK9s6fe",
        "outputId": "c9dae1d5-32d6-49ab-f6b3-bb5685e95202",
        "colab": {
          "base_uri": "https://localhost:8080/"
        }
      },
      "execution_count": null,
      "outputs": [
        {
          "output_type": "stream",
          "name": "stdout",
          "text": [
            "dhrumildhrumildhrumildhrumildhrumil\n",
            "None\n"
          ]
        }
      ]
    }
  ]
}