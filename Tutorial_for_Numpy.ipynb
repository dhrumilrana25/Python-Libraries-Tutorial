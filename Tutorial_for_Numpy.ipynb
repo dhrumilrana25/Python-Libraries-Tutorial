{
  "nbformat": 4,
  "nbformat_minor": 0,
  "metadata": {
    "colab": {
      "provenance": []
    },
    "kernelspec": {
      "name": "python3",
      "display_name": "Python 3"
    },
    "language_info": {
      "name": "python"
    }
  },
  "cells": [
    {
      "cell_type": "code",
      "execution_count": 1,
      "metadata": {
        "id": "s_7SPFi8g3BX"
      },
      "outputs": [],
      "source": [
        "#Impoting the Numpy Library\n",
        "import numpy as np"
      ]
    },
    {
      "cell_type": "markdown",
      "source": [
        "## **All basics of arrays!**"
      ],
      "metadata": {
        "id": "U-ArpbADVqtw"
      }
    },
    {
      "cell_type": "code",
      "source": [
        "#Syntax for the array\n",
        "array1 = np.array([1, 2, 3, 4, 5])"
      ],
      "metadata": {
        "id": "kXoU-xBjhAdi"
      },
      "execution_count": 2,
      "outputs": []
    },
    {
      "cell_type": "code",
      "source": [
        "#To print the array\n",
        "array1"
      ],
      "metadata": {
        "id": "nqf6DJNchSK9"
      },
      "execution_count": null,
      "outputs": []
    },
    {
      "cell_type": "code",
      "source": [
        "#To check the type of array\n",
        "type(array1)"
      ],
      "metadata": {
        "id": "qsYw73dvh0bY"
      },
      "execution_count": null,
      "outputs": []
    },
    {
      "cell_type": "code",
      "source": [
        "#To create 2D array\n",
        "array2 = np.array([[1, 2, 3], [4, 5, 6], [7, 8, 9]])\n",
        "array2"
      ],
      "metadata": {
        "id": "4V5rRVxxjF2R"
      },
      "execution_count": null,
      "outputs": []
    },
    {
      "cell_type": "code",
      "source": [
        "#Another way to create Zero 2D array ((x,y)) number of rows and columns respectively\n",
        "array3 = np.zeros((2,3))\n",
        "array3"
      ],
      "metadata": {
        "id": "GnOeXVK_jkuU"
      },
      "execution_count": null,
      "outputs": []
    },
    {
      "cell_type": "code",
      "source": [
        "#Another way to create Unit 2D array ((x,y)) number of rows and columns respectively\n",
        "array4 = np.ones((3,3))\n",
        "array4"
      ],
      "metadata": {
        "id": "MN9pse_pkCqn"
      },
      "execution_count": null,
      "outputs": []
    },
    {
      "cell_type": "code",
      "source": [
        "#Another way to create Identity 2D array (x) number of rows and columns\n",
        "array5 = np.identity(4)\n",
        "array5"
      ],
      "metadata": {
        "id": "g-N3V7B0knXb"
      },
      "execution_count": null,
      "outputs": []
    },
    {
      "cell_type": "code",
      "source": [
        "#Generates a list to print Range of whole numbers (x) to print x-1 whole numbers index starting from zero 0 , or to print (x,y) from index x to index y\n",
        "array6 = np.arange(5,10)\n",
        "array6"
      ],
      "metadata": {
        "id": "Alr1fNYPlUe9"
      },
      "execution_count": null,
      "outputs": []
    },
    {
      "cell_type": "code",
      "source": [
        "#In the above example adding one more variable (x, y, z) z indicates the difference\n",
        "array7 = np.arange(0,20,2) #2 over here is difference of consecutive number is 2\n",
        "array7"
      ],
      "metadata": {
        "id": "rVVTZe9Kll7Y"
      },
      "execution_count": null,
      "outputs": []
    },
    {
      "cell_type": "code",
      "source": [
        "#(x, y, z) To print the linearly z spaced distance(intervals) between x to y\n",
        "array8 = np.linspace(10,20,10)\n",
        "array8"
      ],
      "metadata": {
        "id": "1j0hhuKXman1"
      },
      "execution_count": null,
      "outputs": []
    },
    {
      "cell_type": "code",
      "source": [
        "#To copy 1 array to another array\n",
        "array9 = np.copy(array3)\n",
        "array9"
      ],
      "metadata": {
        "id": "VjmyEBy1nFtG"
      },
      "execution_count": null,
      "outputs": []
    },
    {
      "cell_type": "code",
      "source": [
        "#It returns the shape or we can say number of (rows,columns)\n",
        "array3.shape"
      ],
      "metadata": {
        "id": "XLiIplW4sx_D"
      },
      "execution_count": null,
      "outputs": []
    },
    {
      "cell_type": "code",
      "source": [
        "#It means two matrix are overlapping with each other\n",
        "array10 = np.array([[[1, 2], [3, 4]], [[4, 5], [6, 7]]])\n",
        "array10"
      ],
      "metadata": {
        "id": "xIU1WXQbtOqX"
      },
      "execution_count": null,
      "outputs": []
    },
    {
      "cell_type": "code",
      "source": [
        "array10.shape"
      ],
      "metadata": {
        "id": "416ApaFitw_H"
      },
      "execution_count": null,
      "outputs": []
    },
    {
      "cell_type": "code",
      "source": [
        "#To check the dimensions of matrix\n",
        "array10.ndim"
      ],
      "metadata": {
        "id": "0Rf-zJk3t4TE"
      },
      "execution_count": null,
      "outputs": []
    },
    {
      "cell_type": "code",
      "source": [
        "#To check the size number of elements of the array\n",
        "array10.size"
      ],
      "metadata": {
        "id": "xKFKcIkydfTZ"
      },
      "execution_count": null,
      "outputs": []
    },
    {
      "cell_type": "code",
      "source": [
        "#To check the memory size of the item or array in bits\n",
        "array3.itemsize"
      ],
      "metadata": {
        "id": "5h1B3ZfRd9gg"
      },
      "execution_count": null,
      "outputs": []
    },
    {
      "cell_type": "code",
      "source": [
        "#To check the datatype of the array\n",
        "array6.dtype"
      ],
      "metadata": {
        "id": "KO4Q3gC7eZIP"
      },
      "execution_count": null,
      "outputs": []
    },
    {
      "cell_type": "code",
      "source": [
        "#To convert the data type of the number or element in array\n",
        "array1.astype('float')"
      ],
      "metadata": {
        "id": "76Z2oWwMeh_X"
      },
      "execution_count": null,
      "outputs": []
    },
    {
      "cell_type": "markdown",
      "source": [
        "## **Let's compare why Array is used in python over List!**"
      ],
      "metadata": {
        "id": "rMNQ5Rs_fujF"
      }
    },
    {
      "cell_type": "code",
      "source": [
        "#Array occupies lesser memory than list\n",
        "list = range(100)\n",
        "array = np.arange(100)"
      ],
      "metadata": {
        "id": "X7dFUXTpf5pO"
      },
      "execution_count": 21,
      "outputs": []
    },
    {
      "cell_type": "code",
      "source": [
        "list"
      ],
      "metadata": {
        "id": "QEeH5HT9gFpi"
      },
      "execution_count": null,
      "outputs": []
    },
    {
      "cell_type": "code",
      "source": [
        "array"
      ],
      "metadata": {
        "id": "-d4OdKQYgAEL"
      },
      "execution_count": null,
      "outputs": []
    },
    {
      "cell_type": "code",
      "source": [
        "#Library that returns the size of the input value\n",
        "import sys"
      ],
      "metadata": {
        "id": "YTZCDilsgNe1"
      },
      "execution_count": 24,
      "outputs": []
    },
    {
      "cell_type": "code",
      "source": [
        "print(sys.getsizeof(87)*len(list))"
      ],
      "metadata": {
        "id": "1yFZngHLgjBf"
      },
      "execution_count": null,
      "outputs": []
    },
    {
      "cell_type": "code",
      "source": [
        "print(array.itemsize*array.size)"
      ],
      "metadata": {
        "id": "oy2boC57hEVy"
      },
      "execution_count": null,
      "outputs": []
    },
    {
      "cell_type": "code",
      "source": [
        "#Array are faster than lists\n",
        "import time"
      ],
      "metadata": {
        "id": "Qj5dkR4gh5k1"
      },
      "execution_count": 27,
      "outputs": []
    },
    {
      "cell_type": "code",
      "source": [
        "#code to print runtime for below list\n",
        "x = range(10000000)\n",
        "y = range(10000000, 20000000)\n",
        "\n",
        "start_time = time.time()\n",
        "\n",
        "c = [ x + y for x,y in zip(x, y)]\n",
        "print( time.time() - start_time )"
      ],
      "metadata": {
        "id": "BjyE4Z8UiAfn"
      },
      "execution_count": null,
      "outputs": []
    },
    {
      "cell_type": "code",
      "source": [
        "#code to print runtime for below array\n",
        "a = np.arange(10000000)\n",
        "b = np.arange(10000000, 20000000)\n",
        "\n",
        "start_time = time.time()\n",
        "c = a + b\n",
        "print( time.time() - start_time )"
      ],
      "metadata": {
        "id": "omXJ_JAtj5oN"
      },
      "execution_count": null,
      "outputs": []
    },
    {
      "cell_type": "markdown",
      "source": [
        "## **Iteration, Slicing and Indexing in the Arrays!**"
      ],
      "metadata": {
        "id": "VhXhRe4FDr5_"
      }
    },
    {
      "cell_type": "code",
      "source": [
        "#To reshape the following array reshape.(x,y) it reshapes the elements of array in matrix form x*y rows and columns\n",
        "array11 = np.arange(24).reshape(6,4)\n",
        "array11"
      ],
      "metadata": {
        "id": "m849_GiYD08l"
      },
      "execution_count": null,
      "outputs": []
    },
    {
      "cell_type": "code",
      "source": [
        "array"
      ],
      "metadata": {
        "id": "YsBvekCwEZXz"
      },
      "execution_count": null,
      "outputs": []
    },
    {
      "cell_type": "code",
      "source": [
        "#To print and slice the array1, prints the value of the index\n",
        "array[2]"
      ],
      "metadata": {
        "id": "JNUS8o9SEox2"
      },
      "execution_count": null,
      "outputs": []
    },
    {
      "cell_type": "code",
      "source": [
        "#To slice the array from [x:y] includes x but not y\n",
        "array[2:4]"
      ],
      "metadata": {
        "id": "twmX0fvIEyLc"
      },
      "execution_count": null,
      "outputs": []
    },
    {
      "cell_type": "code",
      "source": [
        "#To print the last value\n",
        "array[-1]"
      ],
      "metadata": {
        "id": "u1TvBAVFFXIj"
      },
      "execution_count": null,
      "outputs": []
    },
    {
      "cell_type": "code",
      "source": [
        "array11"
      ],
      "metadata": {
        "id": "Vv5SC0gOGb65"
      },
      "execution_count": null,
      "outputs": []
    },
    {
      "cell_type": "code",
      "source": [
        "#If it's matrix or columns rows in the table it prints the row of the index\n",
        "array11[2]"
      ],
      "metadata": {
        "id": "kfGpFpJbFaZ4"
      },
      "execution_count": null,
      "outputs": []
    },
    {
      "cell_type": "code",
      "source": [
        "#for exmaple [:, x:y] in this line of code the first \":\" indicates that each rows from the zero index has to be included and after that\n",
        "# \"x:y\" indicates from column x to y not included is printed\n",
        "array11[:,1:2]"
      ],
      "metadata": {
        "id": "JHmpC7VbF1qN"
      },
      "execution_count": null,
      "outputs": []
    },
    {
      "cell_type": "code",
      "source": [
        "#Iteration in the array\n",
        "array11"
      ],
      "metadata": {
        "id": "6tbwkR_CIHIg"
      },
      "execution_count": null,
      "outputs": []
    },
    {
      "cell_type": "code",
      "source": [
        "for i in array11:\n",
        "  print(i)"
      ],
      "metadata": {
        "id": "5UDvoVExIMNm"
      },
      "execution_count": null,
      "outputs": []
    },
    {
      "cell_type": "code",
      "source": [
        "for i in np.nditer(array11):\n",
        "  print(i)"
      ],
      "metadata": {
        "id": "n38QEG4HIiU1"
      },
      "execution_count": null,
      "outputs": []
    },
    {
      "cell_type": "markdown",
      "source": [
        "## **Numpy Operations!**"
      ],
      "metadata": {
        "id": "LwqypHOeUS5c"
      }
    },
    {
      "cell_type": "code",
      "source": [
        "arr1 = np.array([1, 2, 3, 4, 5, 6])\n",
        "arr2 = np.array([3, 4, 6, 7, 8, 9])"
      ],
      "metadata": {
        "id": "pFlFfT1uUReB"
      },
      "execution_count": 41,
      "outputs": []
    },
    {
      "cell_type": "code",
      "source": [
        "#For subtracting array (Each elements are subtracted with the cosecutive index from arr1 and arr2)\n",
        "arr1-arr2"
      ],
      "metadata": {
        "id": "q2StNShoUi9Y"
      },
      "execution_count": null,
      "outputs": []
    },
    {
      "cell_type": "code",
      "source": [
        "#For multiplying arrays\n",
        "arr1*arr2"
      ],
      "metadata": {
        "id": "qvnJXR6OVBnV"
      },
      "execution_count": null,
      "outputs": []
    },
    {
      "cell_type": "code",
      "source": [
        "#Comparing ooperations with individual  elements and returns true if satisfies condition and false if does'nt\n",
        "arr1>3"
      ],
      "metadata": {
        "id": "7IzLDkNNVJ4m"
      },
      "execution_count": null,
      "outputs": []
    },
    {
      "cell_type": "code",
      "source": [
        "arr3 = np.arange(6).reshape(2,3)\n",
        "arr4 = np.arange(6,12).reshape(3,2)"
      ],
      "metadata": {
        "id": "MkSkYSwoVYEG"
      },
      "execution_count": 45,
      "outputs": []
    },
    {
      "cell_type": "code",
      "source": [
        "#To dot multipy the arrays, for example if I have matrix of (x,y) and (y,x)\n",
        "arr3.dot(arr4)"
      ],
      "metadata": {
        "id": "AZGbc0zKVjBD"
      },
      "execution_count": null,
      "outputs": []
    },
    {
      "cell_type": "code",
      "source": [
        "arr1.dot(arr2)"
      ],
      "metadata": {
        "id": "mXqCzCvOWfwb"
      },
      "execution_count": null,
      "outputs": []
    },
    {
      "cell_type": "code",
      "source": [
        "arr4"
      ],
      "metadata": {
        "id": "xj7XARL9XUxp"
      },
      "execution_count": null,
      "outputs": []
    },
    {
      "cell_type": "code",
      "source": [
        "#To check the maximum value of the element in the Array\n",
        "arr4.max()"
      ],
      "metadata": {
        "id": "rJ1geVaQWl3G"
      },
      "execution_count": null,
      "outputs": []
    },
    {
      "cell_type": "code",
      "source": [
        "#To check the minimum value of the element in the Array\n",
        "arr4.min()"
      ],
      "metadata": {
        "id": "vxe84E3jW0e1"
      },
      "execution_count": null,
      "outputs": []
    },
    {
      "cell_type": "code",
      "source": [
        "#To find sum of the elements in the Array\n",
        "arr4.sum()"
      ],
      "metadata": {
        "id": "I-U9dPh6XmDO"
      },
      "execution_count": null,
      "outputs": []
    },
    {
      "cell_type": "code",
      "source": [
        "#To find the mean of all the elements in the Array\n",
        "arr4.mean()"
      ],
      "metadata": {
        "id": "URA8nDrfZbyh"
      },
      "execution_count": null,
      "outputs": []
    },
    {
      "cell_type": "code",
      "source": [
        "#To find the meadian of all the elements in the Array\n",
        "np.median(arr4)"
      ],
      "metadata": {
        "id": "vX9_fxnUaDle"
      },
      "execution_count": null,
      "outputs": []
    },
    {
      "cell_type": "code",
      "source": [
        "#To find the Standard deviation of all the elements in the Array\n",
        "arr4.std()"
      ],
      "metadata": {
        "id": "F9jNcMIIZb1s"
      },
      "execution_count": null,
      "outputs": []
    },
    {
      "cell_type": "code",
      "source": [
        "#To find the sine value of the elements in the Array\n",
        "np.sin(arr4)"
      ],
      "metadata": {
        "id": "wnoOHC7zZ8JU"
      },
      "execution_count": null,
      "outputs": []
    },
    {
      "cell_type": "code",
      "source": [
        "#To find the cosine value of the elements in the Array\n",
        "np.cos(arr4)"
      ],
      "metadata": {
        "id": "JOF5dEZGaYeu"
      },
      "execution_count": null,
      "outputs": []
    },
    {
      "cell_type": "code",
      "source": [
        "#To find the tangent value of the elements in the Array\n",
        "np.tan(arr4)"
      ],
      "metadata": {
        "id": "FESSsa4kaYg6"
      },
      "execution_count": null,
      "outputs": []
    },
    {
      "cell_type": "markdown",
      "source": [
        "## **Reshaping Numpy Arrays!**"
      ],
      "metadata": {
        "id": "NadWyMdfarkD"
      }
    },
    {
      "cell_type": "code",
      "source": [
        "array2"
      ],
      "metadata": {
        "id": "1AeX8YVYZdUO"
      },
      "execution_count": null,
      "outputs": []
    },
    {
      "cell_type": "code",
      "source": [
        "#Ravel Function ( brings down higher dimensional Arrays to lower dimensional Array)\n",
        "array2.ravel()"
      ],
      "metadata": {
        "id": "IsdUHn9xarVF"
      },
      "execution_count": null,
      "outputs": []
    },
    {
      "cell_type": "code",
      "source": [
        "#Reshape Function ( Conerts array into columns and rows )\n",
        "array2.reshape(9,1)"
      ],
      "metadata": {
        "id": "Q4-bo2FJZ4v9"
      },
      "execution_count": null,
      "outputs": []
    },
    {
      "cell_type": "code",
      "source": [
        "#Transpose Function ( Matrix columns becomes rows)\n",
        "array2.transpose()"
      ],
      "metadata": {
        "id": "ijJ5ydYEaScR"
      },
      "execution_count": null,
      "outputs": []
    },
    {
      "cell_type": "code",
      "source": [
        "#Stacking ( combining two arrays )\n",
        "matrix1 = np.arange(6).reshape(2,3)\n",
        "matrix1"
      ],
      "metadata": {
        "id": "jY-KifZganNj"
      },
      "execution_count": null,
      "outputs": []
    },
    {
      "cell_type": "code",
      "source": [
        "matrix2 = np.arange(6,12).reshape(2,3)\n",
        "matrix2"
      ],
      "metadata": {
        "id": "NfKDUPKUa7-3"
      },
      "execution_count": null,
      "outputs": []
    },
    {
      "cell_type": "code",
      "source": [
        "np.hstack((matrix1,matrix2))  #Horizontal Stack"
      ],
      "metadata": {
        "id": "b8FvzhhHbEsv"
      },
      "execution_count": null,
      "outputs": []
    },
    {
      "cell_type": "code",
      "source": [
        "np.vstack((matrix1,matrix2)) #Vertical Stack"
      ],
      "metadata": {
        "id": "l1HBAVUKb0uy"
      },
      "execution_count": null,
      "outputs": []
    },
    {
      "cell_type": "code",
      "source": [
        "#Splitting of the Array\n",
        "np.hsplit(matrix1,3) #Horizontal Split"
      ],
      "metadata": {
        "id": "bKZZ6-dJdUN0"
      },
      "execution_count": null,
      "outputs": []
    },
    {
      "cell_type": "code",
      "source": [
        "np.vsplit(matrix1,2) #Vertical Split"
      ],
      "metadata": {
        "id": "zNWkIuUxds4r"
      },
      "execution_count": null,
      "outputs": []
    },
    {
      "cell_type": "markdown",
      "source": [
        "## **Plotting Arrays using graphs!**"
      ],
      "metadata": {
        "id": "YTtv7d2Sf5JX"
      }
    },
    {
      "cell_type": "code",
      "source": [
        "x = np.linspace(-40, 40, 100)\n",
        "x"
      ],
      "metadata": {
        "id": "3vsXyN-tgfUB"
      },
      "execution_count": null,
      "outputs": []
    },
    {
      "cell_type": "code",
      "source": [
        "y = np.sin(x)\n",
        "y"
      ],
      "metadata": {
        "id": "bxBJvQ59g9io"
      },
      "execution_count": null,
      "outputs": []
    },
    {
      "cell_type": "code",
      "source": [
        "import matplotlib.pyplot as plt #Library for plotting\n",
        "%matplotlib inline"
      ],
      "metadata": {
        "id": "CoU1ZwBrhIR9"
      },
      "execution_count": 106,
      "outputs": []
    },
    {
      "cell_type": "code",
      "source": [
        "plt.plot(x,y)"
      ],
      "metadata": {
        "id": "X75YBwuwhVdE"
      },
      "execution_count": null,
      "outputs": []
    },
    {
      "cell_type": "code",
      "source": [
        "y = x*x + 2*x + 6\n",
        "y"
      ],
      "metadata": {
        "id": "UmIu3YY9hjEc"
      },
      "execution_count": null,
      "outputs": []
    },
    {
      "cell_type": "code",
      "source": [
        "plt.plot(x,y)"
      ],
      "metadata": {
        "id": "My99fwAwh0mO"
      },
      "execution_count": null,
      "outputs": []
    }
  ]
}