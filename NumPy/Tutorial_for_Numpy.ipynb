{
  "nbformat": 4,
  "nbformat_minor": 0,
  "metadata": {
    "colab": {
      "provenance": []
    },
    "kernelspec": {
      "name": "python3",
      "display_name": "Python 3"
    },
    "language_info": {
      "name": "python"
    }
  },
  "cells": [
    {
      "cell_type": "markdown",
      "source": [
        "## ***NumPy is the fundamental package for scientific computing with Python. It provides support for arrays, matrices, and mathematical functions, making it an essential library for data analysis and numerical computations!***"
      ],
      "metadata": {
        "id": "UB52S-f5-4ds"
      }
    },
    {
      "cell_type": "code",
      "execution_count": 1,
      "metadata": {
        "id": "s_7SPFi8g3BX"
      },
      "outputs": [],
      "source": [
        "#Impoting the Numpy Library\n",
        "import numpy as np"
      ]
    },
    {
      "cell_type": "markdown",
      "source": [
        "## **All basics of arrays!**"
      ],
      "metadata": {
        "id": "U-ArpbADVqtw"
      }
    },
    {
      "cell_type": "code",
      "source": [
        "#Syntax for the array\n",
        "array1 = np.array([1, 2, 3, 4, 5])"
      ],
      "metadata": {
        "id": "kXoU-xBjhAdi"
      },
      "execution_count": 2,
      "outputs": []
    },
    {
      "cell_type": "code",
      "source": [
        "#To print the array\n",
        "array1"
      ],
      "metadata": {
        "id": "nqf6DJNchSK9",
        "outputId": "3febb1eb-fdf5-4e87-ae01-3bd23cd67fcc",
        "colab": {
          "base_uri": "https://localhost:8080/"
        }
      },
      "execution_count": 3,
      "outputs": [
        {
          "output_type": "execute_result",
          "data": {
            "text/plain": [
              "array([1, 2, 3, 4, 5])"
            ]
          },
          "metadata": {},
          "execution_count": 3
        }
      ]
    },
    {
      "cell_type": "code",
      "source": [
        "#To check the type of array\n",
        "type(array1)"
      ],
      "metadata": {
        "id": "qsYw73dvh0bY",
        "outputId": "783aa2fc-21d4-4dd3-93b9-bcb22d0ebd50",
        "colab": {
          "base_uri": "https://localhost:8080/"
        }
      },
      "execution_count": 4,
      "outputs": [
        {
          "output_type": "execute_result",
          "data": {
            "text/plain": [
              "numpy.ndarray"
            ]
          },
          "metadata": {},
          "execution_count": 4
        }
      ]
    },
    {
      "cell_type": "code",
      "source": [
        "#To create 2D array\n",
        "array2 = np.array([[1, 2, 3], [4, 5, 6], [7, 8, 9]])\n",
        "array2"
      ],
      "metadata": {
        "id": "4V5rRVxxjF2R",
        "outputId": "8591fbcb-5162-4830-d6e6-00502ca2a97b",
        "colab": {
          "base_uri": "https://localhost:8080/"
        }
      },
      "execution_count": 5,
      "outputs": [
        {
          "output_type": "execute_result",
          "data": {
            "text/plain": [
              "array([[1, 2, 3],\n",
              "       [4, 5, 6],\n",
              "       [7, 8, 9]])"
            ]
          },
          "metadata": {},
          "execution_count": 5
        }
      ]
    },
    {
      "cell_type": "code",
      "source": [
        "#Another way to create Zero 2D array ((x,y)) number of rows and columns respectively\n",
        "array3 = np.zeros((2,3))\n",
        "array3"
      ],
      "metadata": {
        "id": "GnOeXVK_jkuU",
        "outputId": "2cdc4777-3e2a-4df0-b6da-5f0d8bdd4239",
        "colab": {
          "base_uri": "https://localhost:8080/"
        }
      },
      "execution_count": 6,
      "outputs": [
        {
          "output_type": "execute_result",
          "data": {
            "text/plain": [
              "array([[0., 0., 0.],\n",
              "       [0., 0., 0.]])"
            ]
          },
          "metadata": {},
          "execution_count": 6
        }
      ]
    },
    {
      "cell_type": "code",
      "source": [
        "#Another way to create Unit 2D array ((x,y)) number of rows and columns respectively\n",
        "array4 = np.ones((3,3))\n",
        "array4"
      ],
      "metadata": {
        "id": "MN9pse_pkCqn",
        "outputId": "deecd170-3557-45a0-913f-405d0ce81d2e",
        "colab": {
          "base_uri": "https://localhost:8080/"
        }
      },
      "execution_count": 7,
      "outputs": [
        {
          "output_type": "execute_result",
          "data": {
            "text/plain": [
              "array([[1., 1., 1.],\n",
              "       [1., 1., 1.],\n",
              "       [1., 1., 1.]])"
            ]
          },
          "metadata": {},
          "execution_count": 7
        }
      ]
    },
    {
      "cell_type": "code",
      "source": [
        "#Another way to create Identity 2D array (x) number of rows and columns\n",
        "array5 = np.identity(4)\n",
        "array5"
      ],
      "metadata": {
        "id": "g-N3V7B0knXb",
        "outputId": "8087a224-bb11-4334-d0de-2cc6ba31db89",
        "colab": {
          "base_uri": "https://localhost:8080/"
        }
      },
      "execution_count": 8,
      "outputs": [
        {
          "output_type": "execute_result",
          "data": {
            "text/plain": [
              "array([[1., 0., 0., 0.],\n",
              "       [0., 1., 0., 0.],\n",
              "       [0., 0., 1., 0.],\n",
              "       [0., 0., 0., 1.]])"
            ]
          },
          "metadata": {},
          "execution_count": 8
        }
      ]
    },
    {
      "cell_type": "code",
      "source": [
        "#Generates a list to print Range of whole numbers (x) to print x-1 whole numbers index starting from zero 0 , or to print (x,y) from index x to index y\n",
        "array6 = np.arange(5,10)\n",
        "array6"
      ],
      "metadata": {
        "id": "Alr1fNYPlUe9",
        "outputId": "93cc6725-09ba-41e6-f518-817e87748ca9",
        "colab": {
          "base_uri": "https://localhost:8080/"
        }
      },
      "execution_count": 9,
      "outputs": [
        {
          "output_type": "execute_result",
          "data": {
            "text/plain": [
              "array([5, 6, 7, 8, 9])"
            ]
          },
          "metadata": {},
          "execution_count": 9
        }
      ]
    },
    {
      "cell_type": "code",
      "source": [
        "#In the above example adding one more variable (x, y, z) z indicates the difference\n",
        "array7 = np.arange(0,20,2) #2 over here is difference of consecutive number is 2\n",
        "array7"
      ],
      "metadata": {
        "id": "rVVTZe9Kll7Y",
        "outputId": "eca06824-84dc-44f8-8e4c-1bc57619709c",
        "colab": {
          "base_uri": "https://localhost:8080/"
        }
      },
      "execution_count": 10,
      "outputs": [
        {
          "output_type": "execute_result",
          "data": {
            "text/plain": [
              "array([ 0,  2,  4,  6,  8, 10, 12, 14, 16, 18])"
            ]
          },
          "metadata": {},
          "execution_count": 10
        }
      ]
    },
    {
      "cell_type": "code",
      "source": [
        "#(x, y, z) To print the linearly z spaced distance(intervals) between x to y\n",
        "array8 = np.linspace(10,20,10)\n",
        "array8"
      ],
      "metadata": {
        "id": "1j0hhuKXman1",
        "outputId": "d6c0acfd-b439-4ef0-9d88-ee8f096f4db2",
        "colab": {
          "base_uri": "https://localhost:8080/"
        }
      },
      "execution_count": 11,
      "outputs": [
        {
          "output_type": "execute_result",
          "data": {
            "text/plain": [
              "array([10.        , 11.11111111, 12.22222222, 13.33333333, 14.44444444,\n",
              "       15.55555556, 16.66666667, 17.77777778, 18.88888889, 20.        ])"
            ]
          },
          "metadata": {},
          "execution_count": 11
        }
      ]
    },
    {
      "cell_type": "code",
      "source": [
        "#To copy 1 array to another array\n",
        "array9 = np.copy(array3)\n",
        "array9"
      ],
      "metadata": {
        "id": "VjmyEBy1nFtG",
        "outputId": "1476ce40-7674-4c3a-8e29-336ab3665f28",
        "colab": {
          "base_uri": "https://localhost:8080/"
        }
      },
      "execution_count": 12,
      "outputs": [
        {
          "output_type": "execute_result",
          "data": {
            "text/plain": [
              "array([[0., 0., 0.],\n",
              "       [0., 0., 0.]])"
            ]
          },
          "metadata": {},
          "execution_count": 12
        }
      ]
    },
    {
      "cell_type": "code",
      "source": [
        "#It returns the shape or we can say number of (rows,columns)\n",
        "array3.shape"
      ],
      "metadata": {
        "id": "XLiIplW4sx_D",
        "outputId": "d8c8bf05-6c3b-45b4-c9b5-b496a01cd156",
        "colab": {
          "base_uri": "https://localhost:8080/"
        }
      },
      "execution_count": 13,
      "outputs": [
        {
          "output_type": "execute_result",
          "data": {
            "text/plain": [
              "(2, 3)"
            ]
          },
          "metadata": {},
          "execution_count": 13
        }
      ]
    },
    {
      "cell_type": "code",
      "source": [
        "#It means two matrix are overlapping with each other\n",
        "array10 = np.array([[[1, 2], [3, 4]], [[4, 5], [6, 7]]])\n",
        "array10"
      ],
      "metadata": {
        "id": "xIU1WXQbtOqX",
        "outputId": "d1998bf6-9946-4393-9c3d-28d7566223da",
        "colab": {
          "base_uri": "https://localhost:8080/"
        }
      },
      "execution_count": 14,
      "outputs": [
        {
          "output_type": "execute_result",
          "data": {
            "text/plain": [
              "array([[[1, 2],\n",
              "        [3, 4]],\n",
              "\n",
              "       [[4, 5],\n",
              "        [6, 7]]])"
            ]
          },
          "metadata": {},
          "execution_count": 14
        }
      ]
    },
    {
      "cell_type": "code",
      "source": [
        "array10.shape"
      ],
      "metadata": {
        "id": "416ApaFitw_H",
        "outputId": "63b993c9-dbb5-4f00-f93a-90ef688ae02a",
        "colab": {
          "base_uri": "https://localhost:8080/"
        }
      },
      "execution_count": 15,
      "outputs": [
        {
          "output_type": "execute_result",
          "data": {
            "text/plain": [
              "(2, 2, 2)"
            ]
          },
          "metadata": {},
          "execution_count": 15
        }
      ]
    },
    {
      "cell_type": "code",
      "source": [
        "#To check the dimensions of matrix\n",
        "array10.ndim"
      ],
      "metadata": {
        "id": "0Rf-zJk3t4TE",
        "outputId": "083bc0a2-6269-43a5-b62c-468737cf433e",
        "colab": {
          "base_uri": "https://localhost:8080/"
        }
      },
      "execution_count": 16,
      "outputs": [
        {
          "output_type": "execute_result",
          "data": {
            "text/plain": [
              "3"
            ]
          },
          "metadata": {},
          "execution_count": 16
        }
      ]
    },
    {
      "cell_type": "code",
      "source": [
        "#To check the size number of elements of the array\n",
        "array10.size"
      ],
      "metadata": {
        "id": "xKFKcIkydfTZ",
        "outputId": "a9dc480e-5bad-4779-c8fd-bec9abb43c46",
        "colab": {
          "base_uri": "https://localhost:8080/"
        }
      },
      "execution_count": 17,
      "outputs": [
        {
          "output_type": "execute_result",
          "data": {
            "text/plain": [
              "8"
            ]
          },
          "metadata": {},
          "execution_count": 17
        }
      ]
    },
    {
      "cell_type": "code",
      "source": [
        "#To check the memory size of the item or array in bits\n",
        "array3.itemsize"
      ],
      "metadata": {
        "id": "5h1B3ZfRd9gg",
        "outputId": "2167362c-e8ec-45db-c17a-1d3abfe0bd7f",
        "colab": {
          "base_uri": "https://localhost:8080/"
        }
      },
      "execution_count": 18,
      "outputs": [
        {
          "output_type": "execute_result",
          "data": {
            "text/plain": [
              "8"
            ]
          },
          "metadata": {},
          "execution_count": 18
        }
      ]
    },
    {
      "cell_type": "code",
      "source": [
        "#To check the datatype of the array\n",
        "array6.dtype"
      ],
      "metadata": {
        "id": "KO4Q3gC7eZIP",
        "outputId": "98652699-ee9e-4190-ca7e-f359fb51edec",
        "colab": {
          "base_uri": "https://localhost:8080/"
        }
      },
      "execution_count": 19,
      "outputs": [
        {
          "output_type": "execute_result",
          "data": {
            "text/plain": [
              "dtype('int64')"
            ]
          },
          "metadata": {},
          "execution_count": 19
        }
      ]
    },
    {
      "cell_type": "code",
      "source": [
        "#To convert the data type of the number or element in array\n",
        "array1.astype('float')"
      ],
      "metadata": {
        "id": "76Z2oWwMeh_X",
        "outputId": "fe74b1d9-30bc-436a-e91e-108a1a7ad4b4",
        "colab": {
          "base_uri": "https://localhost:8080/"
        }
      },
      "execution_count": 20,
      "outputs": [
        {
          "output_type": "execute_result",
          "data": {
            "text/plain": [
              "array([1., 2., 3., 4., 5.])"
            ]
          },
          "metadata": {},
          "execution_count": 20
        }
      ]
    },
    {
      "cell_type": "markdown",
      "source": [
        "## **Let's compare why Array is used in python over List!**"
      ],
      "metadata": {
        "id": "rMNQ5Rs_fujF"
      }
    },
    {
      "cell_type": "code",
      "source": [
        "#Array occupies lesser memory than list\n",
        "list = range(100)\n",
        "array = np.arange(100)"
      ],
      "metadata": {
        "id": "X7dFUXTpf5pO"
      },
      "execution_count": 21,
      "outputs": []
    },
    {
      "cell_type": "code",
      "source": [
        "list"
      ],
      "metadata": {
        "id": "QEeH5HT9gFpi",
        "outputId": "6ad888a5-b9ac-44bf-9c1a-83a64db03cb6",
        "colab": {
          "base_uri": "https://localhost:8080/"
        }
      },
      "execution_count": 22,
      "outputs": [
        {
          "output_type": "execute_result",
          "data": {
            "text/plain": [
              "range(0, 100)"
            ]
          },
          "metadata": {},
          "execution_count": 22
        }
      ]
    },
    {
      "cell_type": "code",
      "source": [
        "array"
      ],
      "metadata": {
        "id": "-d4OdKQYgAEL",
        "outputId": "a01aad96-fb40-4d86-8efc-c69cf98e74a9",
        "colab": {
          "base_uri": "https://localhost:8080/"
        }
      },
      "execution_count": 23,
      "outputs": [
        {
          "output_type": "execute_result",
          "data": {
            "text/plain": [
              "array([ 0,  1,  2,  3,  4,  5,  6,  7,  8,  9, 10, 11, 12, 13, 14, 15, 16,\n",
              "       17, 18, 19, 20, 21, 22, 23, 24, 25, 26, 27, 28, 29, 30, 31, 32, 33,\n",
              "       34, 35, 36, 37, 38, 39, 40, 41, 42, 43, 44, 45, 46, 47, 48, 49, 50,\n",
              "       51, 52, 53, 54, 55, 56, 57, 58, 59, 60, 61, 62, 63, 64, 65, 66, 67,\n",
              "       68, 69, 70, 71, 72, 73, 74, 75, 76, 77, 78, 79, 80, 81, 82, 83, 84,\n",
              "       85, 86, 87, 88, 89, 90, 91, 92, 93, 94, 95, 96, 97, 98, 99])"
            ]
          },
          "metadata": {},
          "execution_count": 23
        }
      ]
    },
    {
      "cell_type": "code",
      "source": [
        "#Library that returns the size of the input value\n",
        "import sys"
      ],
      "metadata": {
        "id": "YTZCDilsgNe1"
      },
      "execution_count": 24,
      "outputs": []
    },
    {
      "cell_type": "code",
      "source": [
        "print(sys.getsizeof(87)*len(list))"
      ],
      "metadata": {
        "id": "1yFZngHLgjBf",
        "outputId": "b5db7d52-eda7-4ac8-b1d3-1cbabc792fdd",
        "colab": {
          "base_uri": "https://localhost:8080/"
        }
      },
      "execution_count": 25,
      "outputs": [
        {
          "output_type": "stream",
          "name": "stdout",
          "text": [
            "2800\n"
          ]
        }
      ]
    },
    {
      "cell_type": "code",
      "source": [
        "print(array.itemsize*array.size)"
      ],
      "metadata": {
        "id": "oy2boC57hEVy",
        "outputId": "e05afc9f-41d9-4034-a64b-aa45f6d3b4b5",
        "colab": {
          "base_uri": "https://localhost:8080/"
        }
      },
      "execution_count": 26,
      "outputs": [
        {
          "output_type": "stream",
          "name": "stdout",
          "text": [
            "800\n"
          ]
        }
      ]
    },
    {
      "cell_type": "code",
      "source": [
        "#Array are faster than lists\n",
        "import time"
      ],
      "metadata": {
        "id": "Qj5dkR4gh5k1"
      },
      "execution_count": 27,
      "outputs": []
    },
    {
      "cell_type": "code",
      "source": [
        "#code to print runtime for below list\n",
        "x = range(10000000)\n",
        "y = range(10000000, 20000000)\n",
        "\n",
        "start_time = time.time()\n",
        "\n",
        "c = [ x + y for x,y in zip(x, y)]\n",
        "print( time.time() - start_time )"
      ],
      "metadata": {
        "id": "BjyE4Z8UiAfn",
        "outputId": "6a036af0-cb3e-4371-df21-566fa7325682",
        "colab": {
          "base_uri": "https://localhost:8080/"
        }
      },
      "execution_count": 28,
      "outputs": [
        {
          "output_type": "stream",
          "name": "stdout",
          "text": [
            "2.2254135608673096\n"
          ]
        }
      ]
    },
    {
      "cell_type": "code",
      "source": [
        "#code to print runtime for below array\n",
        "a = np.arange(10000000)\n",
        "b = np.arange(10000000, 20000000)\n",
        "\n",
        "start_time = time.time()\n",
        "c = a + b\n",
        "print( time.time() - start_time )"
      ],
      "metadata": {
        "id": "omXJ_JAtj5oN",
        "outputId": "3dc06e50-03d0-4c96-98d5-6214abf2aabf",
        "colab": {
          "base_uri": "https://localhost:8080/"
        }
      },
      "execution_count": 29,
      "outputs": [
        {
          "output_type": "stream",
          "name": "stdout",
          "text": [
            "0.05022096633911133\n"
          ]
        }
      ]
    },
    {
      "cell_type": "markdown",
      "source": [
        "## **Iteration, Slicing and Indexing in the Arrays!**"
      ],
      "metadata": {
        "id": "VhXhRe4FDr5_"
      }
    },
    {
      "cell_type": "code",
      "source": [
        "#To reshape the following array reshape.(x,y) it reshapes the elements of array in matrix form x*y rows and columns\n",
        "array11 = np.arange(24).reshape(6,4)\n",
        "array11"
      ],
      "metadata": {
        "id": "m849_GiYD08l",
        "outputId": "627c3fe8-9e3d-42e7-84b6-50ac96431bdd",
        "colab": {
          "base_uri": "https://localhost:8080/"
        }
      },
      "execution_count": 30,
      "outputs": [
        {
          "output_type": "execute_result",
          "data": {
            "text/plain": [
              "array([[ 0,  1,  2,  3],\n",
              "       [ 4,  5,  6,  7],\n",
              "       [ 8,  9, 10, 11],\n",
              "       [12, 13, 14, 15],\n",
              "       [16, 17, 18, 19],\n",
              "       [20, 21, 22, 23]])"
            ]
          },
          "metadata": {},
          "execution_count": 30
        }
      ]
    },
    {
      "cell_type": "code",
      "source": [
        "array"
      ],
      "metadata": {
        "id": "YsBvekCwEZXz",
        "outputId": "9e061324-9137-43b4-8b94-1cd216eca9b9",
        "colab": {
          "base_uri": "https://localhost:8080/"
        }
      },
      "execution_count": 31,
      "outputs": [
        {
          "output_type": "execute_result",
          "data": {
            "text/plain": [
              "array([ 0,  1,  2,  3,  4,  5,  6,  7,  8,  9, 10, 11, 12, 13, 14, 15, 16,\n",
              "       17, 18, 19, 20, 21, 22, 23, 24, 25, 26, 27, 28, 29, 30, 31, 32, 33,\n",
              "       34, 35, 36, 37, 38, 39, 40, 41, 42, 43, 44, 45, 46, 47, 48, 49, 50,\n",
              "       51, 52, 53, 54, 55, 56, 57, 58, 59, 60, 61, 62, 63, 64, 65, 66, 67,\n",
              "       68, 69, 70, 71, 72, 73, 74, 75, 76, 77, 78, 79, 80, 81, 82, 83, 84,\n",
              "       85, 86, 87, 88, 89, 90, 91, 92, 93, 94, 95, 96, 97, 98, 99])"
            ]
          },
          "metadata": {},
          "execution_count": 31
        }
      ]
    },
    {
      "cell_type": "code",
      "source": [
        "#To print and slice the array1, prints the value of the index\n",
        "array[2]"
      ],
      "metadata": {
        "id": "JNUS8o9SEox2",
        "outputId": "928762a9-b312-4962-e1d3-2ae454adb588",
        "colab": {
          "base_uri": "https://localhost:8080/"
        }
      },
      "execution_count": 32,
      "outputs": [
        {
          "output_type": "execute_result",
          "data": {
            "text/plain": [
              "2"
            ]
          },
          "metadata": {},
          "execution_count": 32
        }
      ]
    },
    {
      "cell_type": "code",
      "source": [
        "#To slice the array from [x:y] includes x but not y\n",
        "array[2:4]"
      ],
      "metadata": {
        "id": "twmX0fvIEyLc",
        "outputId": "b4e5f3c3-e1bb-421b-c8fe-f0c3c265e5f5",
        "colab": {
          "base_uri": "https://localhost:8080/"
        }
      },
      "execution_count": 33,
      "outputs": [
        {
          "output_type": "execute_result",
          "data": {
            "text/plain": [
              "array([2, 3])"
            ]
          },
          "metadata": {},
          "execution_count": 33
        }
      ]
    },
    {
      "cell_type": "code",
      "source": [
        "#To print the last value\n",
        "array[-1]"
      ],
      "metadata": {
        "id": "u1TvBAVFFXIj",
        "outputId": "c6aef01a-937b-4b46-9d05-2ab7787737c0",
        "colab": {
          "base_uri": "https://localhost:8080/"
        }
      },
      "execution_count": 34,
      "outputs": [
        {
          "output_type": "execute_result",
          "data": {
            "text/plain": [
              "99"
            ]
          },
          "metadata": {},
          "execution_count": 34
        }
      ]
    },
    {
      "cell_type": "code",
      "source": [
        "array11"
      ],
      "metadata": {
        "id": "Vv5SC0gOGb65",
        "outputId": "be2b335b-0d04-44c0-bff4-6997102ff429",
        "colab": {
          "base_uri": "https://localhost:8080/"
        }
      },
      "execution_count": 35,
      "outputs": [
        {
          "output_type": "execute_result",
          "data": {
            "text/plain": [
              "array([[ 0,  1,  2,  3],\n",
              "       [ 4,  5,  6,  7],\n",
              "       [ 8,  9, 10, 11],\n",
              "       [12, 13, 14, 15],\n",
              "       [16, 17, 18, 19],\n",
              "       [20, 21, 22, 23]])"
            ]
          },
          "metadata": {},
          "execution_count": 35
        }
      ]
    },
    {
      "cell_type": "code",
      "source": [
        "#If it's matrix or columns rows in the table it prints the row of the index\n",
        "array11[2]"
      ],
      "metadata": {
        "id": "kfGpFpJbFaZ4",
        "outputId": "cdc9e90c-ec74-4b5d-8d54-f1354f91ce87",
        "colab": {
          "base_uri": "https://localhost:8080/"
        }
      },
      "execution_count": 36,
      "outputs": [
        {
          "output_type": "execute_result",
          "data": {
            "text/plain": [
              "array([ 8,  9, 10, 11])"
            ]
          },
          "metadata": {},
          "execution_count": 36
        }
      ]
    },
    {
      "cell_type": "code",
      "source": [
        "#for exmaple [:, x:y] in this line of code the first \":\" indicates that each rows from the zero index has to be included and after that\n",
        "# \"x:y\" indicates from column x to y not included is printed\n",
        "array11[:,1:2]"
      ],
      "metadata": {
        "id": "JHmpC7VbF1qN",
        "outputId": "bda70d08-93c1-405c-af86-30be38b128c3",
        "colab": {
          "base_uri": "https://localhost:8080/"
        }
      },
      "execution_count": 37,
      "outputs": [
        {
          "output_type": "execute_result",
          "data": {
            "text/plain": [
              "array([[ 1],\n",
              "       [ 5],\n",
              "       [ 9],\n",
              "       [13],\n",
              "       [17],\n",
              "       [21]])"
            ]
          },
          "metadata": {},
          "execution_count": 37
        }
      ]
    },
    {
      "cell_type": "code",
      "source": [
        "#Iteration in the array\n",
        "array11"
      ],
      "metadata": {
        "id": "6tbwkR_CIHIg",
        "outputId": "3ca43620-292d-4951-ef2c-6689acf04e0e",
        "colab": {
          "base_uri": "https://localhost:8080/"
        }
      },
      "execution_count": 38,
      "outputs": [
        {
          "output_type": "execute_result",
          "data": {
            "text/plain": [
              "array([[ 0,  1,  2,  3],\n",
              "       [ 4,  5,  6,  7],\n",
              "       [ 8,  9, 10, 11],\n",
              "       [12, 13, 14, 15],\n",
              "       [16, 17, 18, 19],\n",
              "       [20, 21, 22, 23]])"
            ]
          },
          "metadata": {},
          "execution_count": 38
        }
      ]
    },
    {
      "cell_type": "code",
      "source": [
        "for i in array11:\n",
        "  print(i)"
      ],
      "metadata": {
        "id": "5UDvoVExIMNm",
        "outputId": "a96e2330-2fe4-46e4-c896-dbfc3bf28e1f",
        "colab": {
          "base_uri": "https://localhost:8080/"
        }
      },
      "execution_count": 39,
      "outputs": [
        {
          "output_type": "stream",
          "name": "stdout",
          "text": [
            "[0 1 2 3]\n",
            "[4 5 6 7]\n",
            "[ 8  9 10 11]\n",
            "[12 13 14 15]\n",
            "[16 17 18 19]\n",
            "[20 21 22 23]\n"
          ]
        }
      ]
    },
    {
      "cell_type": "code",
      "source": [
        "for i in np.nditer(array11):\n",
        "  print(i)"
      ],
      "metadata": {
        "id": "n38QEG4HIiU1",
        "outputId": "4aee02da-5b97-40c2-859b-7f7ba29bce9e",
        "colab": {
          "base_uri": "https://localhost:8080/"
        }
      },
      "execution_count": 40,
      "outputs": [
        {
          "output_type": "stream",
          "name": "stdout",
          "text": [
            "0\n",
            "1\n",
            "2\n",
            "3\n",
            "4\n",
            "5\n",
            "6\n",
            "7\n",
            "8\n",
            "9\n",
            "10\n",
            "11\n",
            "12\n",
            "13\n",
            "14\n",
            "15\n",
            "16\n",
            "17\n",
            "18\n",
            "19\n",
            "20\n",
            "21\n",
            "22\n",
            "23\n"
          ]
        }
      ]
    },
    {
      "cell_type": "markdown",
      "source": [
        "## **Numpy Operations!**"
      ],
      "metadata": {
        "id": "LwqypHOeUS5c"
      }
    },
    {
      "cell_type": "code",
      "source": [
        "arr1 = np.array([1, 2, 3, 4, 5, 6])\n",
        "arr2 = np.array([3, 4, 6, 7, 8, 9])"
      ],
      "metadata": {
        "id": "pFlFfT1uUReB"
      },
      "execution_count": 41,
      "outputs": []
    },
    {
      "cell_type": "code",
      "source": [
        "#For subtracting array (Each elements are subtracted with the cosecutive index from arr1 and arr2)\n",
        "arr1-arr2"
      ],
      "metadata": {
        "id": "q2StNShoUi9Y",
        "outputId": "0fd79abc-c8b8-404e-bec9-d1f6f49f9f38",
        "colab": {
          "base_uri": "https://localhost:8080/"
        }
      },
      "execution_count": 42,
      "outputs": [
        {
          "output_type": "execute_result",
          "data": {
            "text/plain": [
              "array([-2, -2, -3, -3, -3, -3])"
            ]
          },
          "metadata": {},
          "execution_count": 42
        }
      ]
    },
    {
      "cell_type": "code",
      "source": [
        "#For multiplying arrays\n",
        "arr1*arr2"
      ],
      "metadata": {
        "id": "qvnJXR6OVBnV",
        "outputId": "dabf4e20-ed15-4a06-8405-8c8503517fa4",
        "colab": {
          "base_uri": "https://localhost:8080/"
        }
      },
      "execution_count": 43,
      "outputs": [
        {
          "output_type": "execute_result",
          "data": {
            "text/plain": [
              "array([ 3,  8, 18, 28, 40, 54])"
            ]
          },
          "metadata": {},
          "execution_count": 43
        }
      ]
    },
    {
      "cell_type": "code",
      "source": [
        "#Comparing ooperations with individual  elements and returns true if satisfies condition and false if does'nt\n",
        "arr1>3"
      ],
      "metadata": {
        "id": "7IzLDkNNVJ4m",
        "outputId": "0b7f9857-693b-48da-c605-29954fa1b415",
        "colab": {
          "base_uri": "https://localhost:8080/"
        }
      },
      "execution_count": 44,
      "outputs": [
        {
          "output_type": "execute_result",
          "data": {
            "text/plain": [
              "array([False, False, False,  True,  True,  True])"
            ]
          },
          "metadata": {},
          "execution_count": 44
        }
      ]
    },
    {
      "cell_type": "code",
      "source": [
        "arr3 = np.arange(6).reshape(2,3)\n",
        "arr4 = np.arange(6,12).reshape(3,2)"
      ],
      "metadata": {
        "id": "MkSkYSwoVYEG"
      },
      "execution_count": 45,
      "outputs": []
    },
    {
      "cell_type": "code",
      "source": [
        "#To dot multipy the arrays, for example if I have matrix of (x,y) and (y,x)\n",
        "arr3.dot(arr4)"
      ],
      "metadata": {
        "id": "AZGbc0zKVjBD",
        "outputId": "5c99a45f-2a4e-4f0d-ece0-e04b86182865",
        "colab": {
          "base_uri": "https://localhost:8080/"
        }
      },
      "execution_count": 46,
      "outputs": [
        {
          "output_type": "execute_result",
          "data": {
            "text/plain": [
              "array([[ 28,  31],\n",
              "       [100, 112]])"
            ]
          },
          "metadata": {},
          "execution_count": 46
        }
      ]
    },
    {
      "cell_type": "code",
      "source": [
        "arr1.dot(arr2)"
      ],
      "metadata": {
        "id": "mXqCzCvOWfwb",
        "outputId": "cbf89aa3-22c0-4902-f5e6-c9bff85e257d",
        "colab": {
          "base_uri": "https://localhost:8080/"
        }
      },
      "execution_count": 47,
      "outputs": [
        {
          "output_type": "execute_result",
          "data": {
            "text/plain": [
              "151"
            ]
          },
          "metadata": {},
          "execution_count": 47
        }
      ]
    },
    {
      "cell_type": "code",
      "source": [
        "arr4"
      ],
      "metadata": {
        "id": "xj7XARL9XUxp",
        "outputId": "c51ffd26-d8fd-4410-8b20-54d0bc697d4c",
        "colab": {
          "base_uri": "https://localhost:8080/"
        }
      },
      "execution_count": 48,
      "outputs": [
        {
          "output_type": "execute_result",
          "data": {
            "text/plain": [
              "array([[ 6,  7],\n",
              "       [ 8,  9],\n",
              "       [10, 11]])"
            ]
          },
          "metadata": {},
          "execution_count": 48
        }
      ]
    },
    {
      "cell_type": "code",
      "source": [
        "#To check the maximum value of the element in the Array\n",
        "arr4.max()"
      ],
      "metadata": {
        "id": "rJ1geVaQWl3G",
        "outputId": "508e02ea-7aed-4749-e2ac-27dfd5a4ad05",
        "colab": {
          "base_uri": "https://localhost:8080/"
        }
      },
      "execution_count": 49,
      "outputs": [
        {
          "output_type": "execute_result",
          "data": {
            "text/plain": [
              "11"
            ]
          },
          "metadata": {},
          "execution_count": 49
        }
      ]
    },
    {
      "cell_type": "code",
      "source": [
        "#To check the minimum value of the element in the Array\n",
        "arr4.min()"
      ],
      "metadata": {
        "id": "vxe84E3jW0e1",
        "outputId": "664dc462-df3b-44d6-dc4c-b510b3bfc503",
        "colab": {
          "base_uri": "https://localhost:8080/"
        }
      },
      "execution_count": 50,
      "outputs": [
        {
          "output_type": "execute_result",
          "data": {
            "text/plain": [
              "6"
            ]
          },
          "metadata": {},
          "execution_count": 50
        }
      ]
    },
    {
      "cell_type": "code",
      "source": [
        "#To find sum of the elements in the Array\n",
        "arr4.sum()"
      ],
      "metadata": {
        "id": "I-U9dPh6XmDO",
        "outputId": "3cb88214-7263-4b76-e15d-4d8202cbd48b",
        "colab": {
          "base_uri": "https://localhost:8080/"
        }
      },
      "execution_count": 51,
      "outputs": [
        {
          "output_type": "execute_result",
          "data": {
            "text/plain": [
              "51"
            ]
          },
          "metadata": {},
          "execution_count": 51
        }
      ]
    },
    {
      "cell_type": "code",
      "source": [
        "#To find the mean of all the elements in the Array\n",
        "arr4.mean()"
      ],
      "metadata": {
        "id": "URA8nDrfZbyh",
        "outputId": "3ebe9928-8b6b-4779-b8ab-09dc2a8942d4",
        "colab": {
          "base_uri": "https://localhost:8080/"
        }
      },
      "execution_count": 52,
      "outputs": [
        {
          "output_type": "execute_result",
          "data": {
            "text/plain": [
              "8.5"
            ]
          },
          "metadata": {},
          "execution_count": 52
        }
      ]
    },
    {
      "cell_type": "code",
      "source": [
        "#To find the meadian of all the elements in the Array\n",
        "np.median(arr4)"
      ],
      "metadata": {
        "id": "vX9_fxnUaDle",
        "outputId": "198eba83-a365-4215-ef78-6ec83c333d32",
        "colab": {
          "base_uri": "https://localhost:8080/"
        }
      },
      "execution_count": 53,
      "outputs": [
        {
          "output_type": "execute_result",
          "data": {
            "text/plain": [
              "8.5"
            ]
          },
          "metadata": {},
          "execution_count": 53
        }
      ]
    },
    {
      "cell_type": "code",
      "source": [
        "#To find the Standard deviation of all the elements in the Array\n",
        "arr4.std()"
      ],
      "metadata": {
        "id": "F9jNcMIIZb1s",
        "outputId": "9772920c-351c-4b0e-a6bc-0c57f98e50f4",
        "colab": {
          "base_uri": "https://localhost:8080/"
        }
      },
      "execution_count": 54,
      "outputs": [
        {
          "output_type": "execute_result",
          "data": {
            "text/plain": [
              "1.707825127659933"
            ]
          },
          "metadata": {},
          "execution_count": 54
        }
      ]
    },
    {
      "cell_type": "code",
      "source": [
        "#To find the sine value of the elements in the Array\n",
        "np.sin(arr4)"
      ],
      "metadata": {
        "id": "wnoOHC7zZ8JU",
        "outputId": "6e2f3d14-6cf9-4893-a3b5-090d225c2b21",
        "colab": {
          "base_uri": "https://localhost:8080/"
        }
      },
      "execution_count": 55,
      "outputs": [
        {
          "output_type": "execute_result",
          "data": {
            "text/plain": [
              "array([[-0.2794155 ,  0.6569866 ],\n",
              "       [ 0.98935825,  0.41211849],\n",
              "       [-0.54402111, -0.99999021]])"
            ]
          },
          "metadata": {},
          "execution_count": 55
        }
      ]
    },
    {
      "cell_type": "code",
      "source": [
        "#To find the cosine value of the elements in the Array\n",
        "np.cos(arr4)"
      ],
      "metadata": {
        "id": "JOF5dEZGaYeu",
        "outputId": "11b9d620-614f-4cb8-e74c-ac3aab9df42e",
        "colab": {
          "base_uri": "https://localhost:8080/"
        }
      },
      "execution_count": 56,
      "outputs": [
        {
          "output_type": "execute_result",
          "data": {
            "text/plain": [
              "array([[ 0.96017029,  0.75390225],\n",
              "       [-0.14550003, -0.91113026],\n",
              "       [-0.83907153,  0.0044257 ]])"
            ]
          },
          "metadata": {},
          "execution_count": 56
        }
      ]
    },
    {
      "cell_type": "code",
      "source": [
        "#To find the tangent value of the elements in the Array\n",
        "np.tan(arr4)"
      ],
      "metadata": {
        "id": "FESSsa4kaYg6",
        "outputId": "f216121f-2117-41c5-cc00-8ec1c0a62199",
        "colab": {
          "base_uri": "https://localhost:8080/"
        }
      },
      "execution_count": 57,
      "outputs": [
        {
          "output_type": "execute_result",
          "data": {
            "text/plain": [
              "array([[  -0.29100619,    0.87144798],\n",
              "       [  -6.79971146,   -0.45231566],\n",
              "       [   0.64836083, -225.95084645]])"
            ]
          },
          "metadata": {},
          "execution_count": 57
        }
      ]
    },
    {
      "cell_type": "markdown",
      "source": [
        "## **Reshaping Numpy Arrays!**"
      ],
      "metadata": {
        "id": "NadWyMdfarkD"
      }
    },
    {
      "cell_type": "code",
      "source": [
        "array2"
      ],
      "metadata": {
        "id": "1AeX8YVYZdUO",
        "outputId": "f544b4db-ded3-4160-8d66-90920fd13e70",
        "colab": {
          "base_uri": "https://localhost:8080/"
        }
      },
      "execution_count": 58,
      "outputs": [
        {
          "output_type": "execute_result",
          "data": {
            "text/plain": [
              "array([[1, 2, 3],\n",
              "       [4, 5, 6],\n",
              "       [7, 8, 9]])"
            ]
          },
          "metadata": {},
          "execution_count": 58
        }
      ]
    },
    {
      "cell_type": "code",
      "source": [
        "#Ravel Function ( brings down higher dimensional Arrays to lower dimensional Array)\n",
        "array2.ravel()"
      ],
      "metadata": {
        "id": "IsdUHn9xarVF",
        "outputId": "f2590dcb-b32c-4333-a2da-36f8b5d1b2e7",
        "colab": {
          "base_uri": "https://localhost:8080/"
        }
      },
      "execution_count": 59,
      "outputs": [
        {
          "output_type": "execute_result",
          "data": {
            "text/plain": [
              "array([1, 2, 3, 4, 5, 6, 7, 8, 9])"
            ]
          },
          "metadata": {},
          "execution_count": 59
        }
      ]
    },
    {
      "cell_type": "code",
      "source": [
        "#Reshape Function ( Conerts array into columns and rows )\n",
        "array2.reshape(9,1)"
      ],
      "metadata": {
        "id": "Q4-bo2FJZ4v9",
        "outputId": "0e2a7f06-d53e-4893-d2da-89154694305c",
        "colab": {
          "base_uri": "https://localhost:8080/"
        }
      },
      "execution_count": 60,
      "outputs": [
        {
          "output_type": "execute_result",
          "data": {
            "text/plain": [
              "array([[1],\n",
              "       [2],\n",
              "       [3],\n",
              "       [4],\n",
              "       [5],\n",
              "       [6],\n",
              "       [7],\n",
              "       [8],\n",
              "       [9]])"
            ]
          },
          "metadata": {},
          "execution_count": 60
        }
      ]
    },
    {
      "cell_type": "code",
      "source": [
        "#Transpose Function ( Matrix columns becomes rows)\n",
        "array2.transpose()"
      ],
      "metadata": {
        "id": "ijJ5ydYEaScR",
        "outputId": "2df37f5d-ff00-45f8-9709-d6a9b67ecda7",
        "colab": {
          "base_uri": "https://localhost:8080/"
        }
      },
      "execution_count": 61,
      "outputs": [
        {
          "output_type": "execute_result",
          "data": {
            "text/plain": [
              "array([[1, 4, 7],\n",
              "       [2, 5, 8],\n",
              "       [3, 6, 9]])"
            ]
          },
          "metadata": {},
          "execution_count": 61
        }
      ]
    },
    {
      "cell_type": "code",
      "source": [
        "#Stacking ( combining two arrays )\n",
        "matrix1 = np.arange(6).reshape(2,3)\n",
        "matrix1"
      ],
      "metadata": {
        "id": "jY-KifZganNj",
        "outputId": "695f441b-22f0-474b-c5fc-8477947de8b5",
        "colab": {
          "base_uri": "https://localhost:8080/"
        }
      },
      "execution_count": 62,
      "outputs": [
        {
          "output_type": "execute_result",
          "data": {
            "text/plain": [
              "array([[0, 1, 2],\n",
              "       [3, 4, 5]])"
            ]
          },
          "metadata": {},
          "execution_count": 62
        }
      ]
    },
    {
      "cell_type": "code",
      "source": [
        "matrix2 = np.arange(6,12).reshape(2,3)\n",
        "matrix2"
      ],
      "metadata": {
        "id": "NfKDUPKUa7-3",
        "outputId": "d5fcf16a-f64d-4814-e30c-0f6eb7e37aad",
        "colab": {
          "base_uri": "https://localhost:8080/"
        }
      },
      "execution_count": 63,
      "outputs": [
        {
          "output_type": "execute_result",
          "data": {
            "text/plain": [
              "array([[ 6,  7,  8],\n",
              "       [ 9, 10, 11]])"
            ]
          },
          "metadata": {},
          "execution_count": 63
        }
      ]
    },
    {
      "cell_type": "code",
      "source": [
        "np.hstack((matrix1,matrix2))  #Horizontal Stack"
      ],
      "metadata": {
        "id": "b8FvzhhHbEsv",
        "outputId": "c133e9fe-1988-49e0-f6a0-da5b1fdb29db",
        "colab": {
          "base_uri": "https://localhost:8080/"
        }
      },
      "execution_count": 64,
      "outputs": [
        {
          "output_type": "execute_result",
          "data": {
            "text/plain": [
              "array([[ 0,  1,  2,  6,  7,  8],\n",
              "       [ 3,  4,  5,  9, 10, 11]])"
            ]
          },
          "metadata": {},
          "execution_count": 64
        }
      ]
    },
    {
      "cell_type": "code",
      "source": [
        "np.vstack((matrix1,matrix2)) #Vertical Stack"
      ],
      "metadata": {
        "id": "l1HBAVUKb0uy",
        "outputId": "b43e1fe8-4dca-4374-bd9b-fa7d623c28d3",
        "colab": {
          "base_uri": "https://localhost:8080/"
        }
      },
      "execution_count": 65,
      "outputs": [
        {
          "output_type": "execute_result",
          "data": {
            "text/plain": [
              "array([[ 0,  1,  2],\n",
              "       [ 3,  4,  5],\n",
              "       [ 6,  7,  8],\n",
              "       [ 9, 10, 11]])"
            ]
          },
          "metadata": {},
          "execution_count": 65
        }
      ]
    },
    {
      "cell_type": "code",
      "source": [
        "#Splitting of the Array\n",
        "np.hsplit(matrix1,3) #Horizontal Split"
      ],
      "metadata": {
        "id": "bKZZ6-dJdUN0",
        "outputId": "b0428b48-4dbe-4b60-a782-aefeeef08fff",
        "colab": {
          "base_uri": "https://localhost:8080/"
        }
      },
      "execution_count": 66,
      "outputs": [
        {
          "output_type": "execute_result",
          "data": {
            "text/plain": [
              "[array([[0],\n",
              "        [3]]),\n",
              " array([[1],\n",
              "        [4]]),\n",
              " array([[2],\n",
              "        [5]])]"
            ]
          },
          "metadata": {},
          "execution_count": 66
        }
      ]
    },
    {
      "cell_type": "code",
      "source": [
        "np.vsplit(matrix1,2) #Vertical Split"
      ],
      "metadata": {
        "id": "zNWkIuUxds4r",
        "outputId": "c2561627-6d12-4963-9828-e14e8aca28e1",
        "colab": {
          "base_uri": "https://localhost:8080/"
        }
      },
      "execution_count": 67,
      "outputs": [
        {
          "output_type": "execute_result",
          "data": {
            "text/plain": [
              "[array([[0, 1, 2]]), array([[3, 4, 5]])]"
            ]
          },
          "metadata": {},
          "execution_count": 67
        }
      ]
    },
    {
      "cell_type": "markdown",
      "source": [
        "## **Plotting Arrays using graphs!**"
      ],
      "metadata": {
        "id": "YTtv7d2Sf5JX"
      }
    },
    {
      "cell_type": "code",
      "source": [
        "x = np.linspace(-40, 40, 100)\n",
        "x"
      ],
      "metadata": {
        "id": "3vsXyN-tgfUB",
        "outputId": "a89838ac-7172-4629-8ab0-e9577b4c9760",
        "colab": {
          "base_uri": "https://localhost:8080/"
        }
      },
      "execution_count": 68,
      "outputs": [
        {
          "output_type": "execute_result",
          "data": {
            "text/plain": [
              "array([-40.        , -39.19191919, -38.38383838, -37.57575758,\n",
              "       -36.76767677, -35.95959596, -35.15151515, -34.34343434,\n",
              "       -33.53535354, -32.72727273, -31.91919192, -31.11111111,\n",
              "       -30.3030303 , -29.49494949, -28.68686869, -27.87878788,\n",
              "       -27.07070707, -26.26262626, -25.45454545, -24.64646465,\n",
              "       -23.83838384, -23.03030303, -22.22222222, -21.41414141,\n",
              "       -20.60606061, -19.7979798 , -18.98989899, -18.18181818,\n",
              "       -17.37373737, -16.56565657, -15.75757576, -14.94949495,\n",
              "       -14.14141414, -13.33333333, -12.52525253, -11.71717172,\n",
              "       -10.90909091, -10.1010101 ,  -9.29292929,  -8.48484848,\n",
              "        -7.67676768,  -6.86868687,  -6.06060606,  -5.25252525,\n",
              "        -4.44444444,  -3.63636364,  -2.82828283,  -2.02020202,\n",
              "        -1.21212121,  -0.4040404 ,   0.4040404 ,   1.21212121,\n",
              "         2.02020202,   2.82828283,   3.63636364,   4.44444444,\n",
              "         5.25252525,   6.06060606,   6.86868687,   7.67676768,\n",
              "         8.48484848,   9.29292929,  10.1010101 ,  10.90909091,\n",
              "        11.71717172,  12.52525253,  13.33333333,  14.14141414,\n",
              "        14.94949495,  15.75757576,  16.56565657,  17.37373737,\n",
              "        18.18181818,  18.98989899,  19.7979798 ,  20.60606061,\n",
              "        21.41414141,  22.22222222,  23.03030303,  23.83838384,\n",
              "        24.64646465,  25.45454545,  26.26262626,  27.07070707,\n",
              "        27.87878788,  28.68686869,  29.49494949,  30.3030303 ,\n",
              "        31.11111111,  31.91919192,  32.72727273,  33.53535354,\n",
              "        34.34343434,  35.15151515,  35.95959596,  36.76767677,\n",
              "        37.57575758,  38.38383838,  39.19191919,  40.        ])"
            ]
          },
          "metadata": {},
          "execution_count": 68
        }
      ]
    },
    {
      "cell_type": "code",
      "source": [
        "y = np.sin(x)\n",
        "y"
      ],
      "metadata": {
        "id": "bxBJvQ59g9io",
        "outputId": "62b68a8e-676b-4751-c71e-3ae615537918",
        "colab": {
          "base_uri": "https://localhost:8080/"
        }
      },
      "execution_count": 69,
      "outputs": [
        {
          "output_type": "execute_result",
          "data": {
            "text/plain": [
              "array([-0.74511316, -0.9969604 , -0.63246122,  0.12304167,  0.80247705,\n",
              "        0.98580059,  0.55967698, -0.21245326, -0.85323945, -0.96653119,\n",
              "       -0.48228862,  0.30011711,  0.89698277,  0.93931073,  0.40093277,\n",
              "       -0.38531209, -0.93334716, -0.90436313, -0.31627868,  0.46733734,\n",
              "        0.96203346,  0.86197589,  0.22902277, -0.54551809, -0.9828057 ,\n",
              "       -0.81249769, -0.13988282,  0.61921119,  0.995493  ,  0.75633557,\n",
              "        0.04959214, -0.68781042, -0.99999098, -0.69395153,  0.0411065 ,\n",
              "        0.75075145,  0.99626264,  0.62585878, -0.13146699, -0.8075165 ,\n",
              "       -0.98433866, -0.55261747,  0.22074597,  0.85763861,  0.96431712,\n",
              "        0.47483011, -0.30820902, -0.90070545, -0.93636273, -0.39313661,\n",
              "        0.39313661,  0.93636273,  0.90070545,  0.30820902, -0.47483011,\n",
              "       -0.96431712, -0.85763861, -0.22074597,  0.55261747,  0.98433866,\n",
              "        0.8075165 ,  0.13146699, -0.62585878, -0.99626264, -0.75075145,\n",
              "       -0.0411065 ,  0.69395153,  0.99999098,  0.68781042, -0.04959214,\n",
              "       -0.75633557, -0.995493  , -0.61921119,  0.13988282,  0.81249769,\n",
              "        0.9828057 ,  0.54551809, -0.22902277, -0.86197589, -0.96203346,\n",
              "       -0.46733734,  0.31627868,  0.90436313,  0.93334716,  0.38531209,\n",
              "       -0.40093277, -0.93931073, -0.89698277, -0.30011711,  0.48228862,\n",
              "        0.96653119,  0.85323945,  0.21245326, -0.55967698, -0.98580059,\n",
              "       -0.80247705, -0.12304167,  0.63246122,  0.9969604 ,  0.74511316])"
            ]
          },
          "metadata": {},
          "execution_count": 69
        }
      ]
    },
    {
      "cell_type": "code",
      "source": [
        "import matplotlib.pyplot as plt #Library for plotting\n",
        "%matplotlib inline"
      ],
      "metadata": {
        "id": "CoU1ZwBrhIR9"
      },
      "execution_count": 70,
      "outputs": []
    },
    {
      "cell_type": "code",
      "source": [
        "plt.plot(x,y)"
      ],
      "metadata": {
        "id": "X75YBwuwhVdE",
        "outputId": "b129bd0c-feba-4771-f003-041aa2ae27bf",
        "colab": {
          "base_uri": "https://localhost:8080/",
          "height": 448
        }
      },
      "execution_count": 71,
      "outputs": [
        {
          "output_type": "execute_result",
          "data": {
            "text/plain": [
              "[<matplotlib.lines.Line2D at 0x7ed9ceaf2770>]"
            ]
          },
          "metadata": {},
          "execution_count": 71
        },
        {
          "output_type": "display_data",
          "data": {
            "text/plain": [
              "<Figure size 640x480 with 1 Axes>"
            ],
            "image/png": "[encoded data removed]"
          },
          "metadata": {}
        }
      ]
    },
    {
      "cell_type": "code",
      "source": [
        "y = x*x + 2*x + 6\n",
        "y"
      ],
      "metadata": {
        "id": "UmIu3YY9hjEc",
        "outputId": "3f2ba4d7-418e-4adf-c7ec-b7c8a67a5ddd",
        "colab": {
          "base_uri": "https://localhost:8080/"
        }
      },
      "execution_count": 72,
      "outputs": [
        {
          "output_type": "execute_result",
          "data": {
            "text/plain": [
              "array([1526.        , 1463.62269156, 1402.55137231, 1342.78604224,\n",
              "       1284.32670136, 1227.17334966, 1171.32598714, 1116.78461381,\n",
              "       1063.54922967, 1011.61983471,  960.99642894,  911.67901235,\n",
              "        863.66758494,  816.96214672,  771.56269768,  727.46923783,\n",
              "        684.68176717,  643.20028569,  603.02479339,  564.15529028,\n",
              "        526.59177635,  490.33425161,  455.38271605,  421.73716968,\n",
              "        389.39761249,  358.36404449,  328.63646567,  300.21487603,\n",
              "        273.09927558,  247.28966432,  222.78604224,  199.58840935,\n",
              "        177.69676564,  157.11111111,  137.83144577,  119.85776962,\n",
              "        103.19008264,   87.82838486,   73.77267626,   61.02295684,\n",
              "         49.57922661,   39.44148556,   30.6097337 ,   23.08397102,\n",
              "         16.86419753,   11.95041322,    8.3426181 ,    6.04081216,\n",
              "          5.04499541,    5.35516784,    6.97132946,    9.89348026,\n",
              "         14.12162024,   19.65574941,   26.49586777,   34.64197531,\n",
              "         44.09407203,   54.85215794,   66.91623304,   80.28629732,\n",
              "         94.96235078,  110.94439343,  128.23242526,  146.82644628,\n",
              "        166.72645648,  187.93245587,  210.44444444,  234.2624222 ,\n",
              "        259.38638914,  285.81634527,  313.55229058,  342.59422508,\n",
              "        372.94214876,  404.59606163,  437.55596368,  471.82185491,\n",
              "        507.39373533,  544.27160494,  582.45546373,  621.9453117 ,\n",
              "        662.74114886,  704.84297521,  748.25079074,  792.96459545,\n",
              "        838.98438935,  886.31017243,  934.9419447 ,  984.87970615,\n",
              "       1036.12345679, 1088.67319661, 1142.52892562, 1197.69064381,\n",
              "       1254.15835119, 1311.93204775, 1371.0117335 , 1431.39740843,\n",
              "       1493.08907254, 1556.08672584, 1620.39036833, 1686.        ])"
            ]
          },
          "metadata": {},
          "execution_count": 72
        }
      ]
    },
    {
      "cell_type": "code",
      "source": [
        "plt.plot(x,y)"
      ],
      "metadata": {
        "id": "My99fwAwh0mO",
        "outputId": "15f5892c-55f9-4752-d795-7cc3d64f3547",
        "colab": {
          "base_uri": "https://localhost:8080/",
          "height": 449
        }
      },
      "execution_count": 73,
      "outputs": [
        {
          "output_type": "execute_result",
          "data": {
            "text/plain": [
              "[<matplotlib.lines.Line2D at 0x7ed9952cb400>]"
            ]
          },
          "metadata": {},
          "execution_count": 73
        },
        {
          "output_type": "display_data",
          "data": {
            "text/plain": [
              "<Figure size 640x480 with 1 Axes>"
            ],
            "image/png": "[encoded data removed]"
          },
          "metadata": {}
        }
      ]
    }
  ]
}